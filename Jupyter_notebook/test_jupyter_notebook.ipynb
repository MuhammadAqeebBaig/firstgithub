{
 "cells": [
  {
   "cell_type": "markdown",
   "id": "52a82609",
   "metadata": {},
   "source": [
    "# python ka chilla #baba ammar\n",
    "## how to use jupyter notebook\n",
    "## basics of python\n",
    "### **1- my first program**"
   ]
  },
  {
   "cell_type": "code",
   "execution_count": 1,
   "id": "aba19b86",
   "metadata": {},
   "outputs": [
    {
     "name": "stdout",
     "output_type": "stream",
     "text": [
      "5\n",
      "hello world\n",
      "learning python with ammar\n"
     ]
    }
   ],
   "source": [
    "# My_first program in Pyhton\n",
    "print(2+3)\n",
    "print(\"hello world\")\n",
    "print(\"learning python with ammar\")\n"
   ]
  },
  {
   "cell_type": "markdown",
   "id": "9aa03fc7",
   "metadata": {},
   "source": [
    "### **02- operatars**"
   ]
  },
  {
   "cell_type": "code",
   "execution_count": 2,
   "id": "c2752bf1",
   "metadata": {},
   "outputs": [
    {
     "name": "stdout",
     "output_type": "stream",
     "text": [
      "5\n",
      "2\n",
      "9\n",
      "3.0\n",
      "4.5\n",
      "1\n",
      "3\n",
      "8\n",
      "-13.0\n"
     ]
    }
   ],
   "source": [
    "print(2+3)\n",
    "print(3-1)\n",
    "print(3*3)\n",
    "print(9/3)\n",
    "print(9/2)\n",
    "print(9%2)\n",
    "print(6//2)\n",
    "print(2**3)\n",
    "\n",
    "print(3**2/3+4-5*4)\n",
    "\n"
   ]
  },
  {
   "cell_type": "markdown",
   "id": "b76a5367",
   "metadata": {},
   "source": [
    "*PEMDAS\n",
    "Parenthesis Exponents Multiply Divide Addition Subtraction\n",
    "left to right sequence for M D & A Sf*"
   ]
  },
  {
   "cell_type": "markdown",
   "id": "4751ed8d",
   "metadata": {},
   "source": [
    "### **03- strings**"
   ]
  },
  {
   "cell_type": "code",
   "execution_count": 3,
   "id": "d45449df",
   "metadata": {
    "scrolled": true
   },
   "outputs": [
    {
     "name": "stdout",
     "output_type": "stream",
     "text": [
      "hello world\n",
      "learning python with ammar\n",
      "test for single quotes\n",
      "test for double quotes\n",
      "test for triple quotes\n",
      "what's up   ?\n"
     ]
    }
   ],
   "source": [
    "print(\"hello world\")\n",
    "print(\"learning python with ammar\")\n",
    "print('test for single quotes')\n",
    "print(\"test for double quotes\")\n",
    "print('''test for triple quotes''')\n",
    "print(\"what's up   ?\")\n"
   ]
  },
  {
   "cell_type": "markdown",
   "id": "f70d9444",
   "metadata": {},
   "source": [
    "*strings_clear*"
   ]
  },
  {
   "cell_type": "markdown",
   "id": "cb78682d",
   "metadata": {},
   "source": [
    "### **04- comments in python**\n",
    "shortcut for comment is **(ctrl+/)**\n"
   ]
  },
  {
   "cell_type": "code",
   "execution_count": 4,
   "id": "b9ff79c1",
   "metadata": {
    "scrolled": false
   },
   "outputs": [
    {
     "name": "stdout",
     "output_type": "stream",
     "text": [
      "how are you?\n",
      "we are learning pyhton with ammar\n",
      "8\n"
     ]
    }
   ],
   "source": [
    "print(\"how are you?\")      #print these to comment out(ctrl+/)\n",
    "print(\"we are learning pyhton with ammar\") #print is string\n",
    "print(2+6) #print operators function with numbers"
   ]
  },
  {
   "cell_type": "markdown",
   "id": "873e18aa",
   "metadata": {},
   "source": [
    "### **05- variables**"
   ]
  },
  {
   "cell_type": "markdown",
   "id": "f4847b1a",
   "metadata": {},
   "source": [
    "*Variables: objects containing specific value*"
   ]
  },
  {
   "cell_type": "code",
   "execution_count": 5,
   "id": "cc9e8c7f",
   "metadata": {},
   "outputs": [
    {
     "name": "stdout",
     "output_type": "stream",
     "text": [
      "5\n",
      "we are learning python with ammar\n",
      "15\n",
      "<class 'int'>\n",
      "<class 'str'>\n"
     ]
    }
   ],
   "source": [
    "x = 5 \n",
    "print(x)\n",
    "\n",
    "y = \"we are learning python with ammar\"\n",
    "print(y)\n",
    "x = x+10 #or x=15\n",
    "print(x)\n",
    "\n",
    "\n",
    "\n",
    "type(x)\n",
    "print(type(x))\n",
    "\n",
    "print(type(y))\n",
    "\n",
    "\n",
    "\n",
    "\n"
   ]
  },
  {
   "cell_type": "markdown",
   "id": "84ab0bb6",
   "metadata": {},
   "source": [
    "**Rules to assign a variable**\n",
    "\n",
    "\n",
    "\n",
    "*1- The variable should contain letters, numbers and underscores*\n",
    "\n",
    "*2- Do not start with numbers*\n",
    "\n",
    "*3- Spaces are not allowed*\n",
    "\n",
    "*4- Do not use keywords in function (break, mean, median and test)*\n",
    "\n",
    "*5- Short and descriptive*\n",
    "\n",
    "*6- C\n"
   ]
  },
  {
   "cell_type": "code",
   "execution_count": 6,
   "id": "c3ecccde",
   "metadata": {},
   "outputs": [
    {
     "name": "stdout",
     "output_type": "stream",
     "text": [
      "mangoes\n",
      "<class 'str'>\n"
     ]
    }
   ],
   "source": [
    "fruit_basket= 8\n",
    "fruit_basket= \"mangoes\"\n",
    "print(fruit_basket)\n",
    "print(type(fruit_basket))"
   ]
  },
  {
   "cell_type": "markdown",
   "id": "ba93b339",
   "metadata": {},
   "source": [
    "### **06- input_variables**"
   ]
  },
  {
   "cell_type": "code",
   "execution_count": 7,
   "id": "8e4e2737",
   "metadata": {},
   "outputs": [
    {
     "name": "stdout",
     "output_type": "stream",
     "text": [
      "mangoes\n",
      "What is your favourite fruit?  mangoe\n",
      "mangoe\n",
      "what is your name? ammar\n",
      "hello ammar\n",
      "what is your name? ammar\n",
      "hello! ammar\n",
      "what is your name? ammar\n",
      "how old are you? 23\n",
      "hello! ammar  , you are still young\n"
     ]
    }
   ],
   "source": [
    "fruit_basket= \"mangoes\"\n",
    "print(fruit_basket)\n",
    "\n",
    "\n",
    "#input_function simple\n",
    "fruit_basket=input(\"What is your favourite fruit?  \")\n",
    "print(fruit_basket)\n",
    "\n",
    "#input_funtion of 2nd stage\n",
    "name=input(\"what is your name? \")\n",
    "greetings=\"hello\"\n",
    "print(greetings, name)\n",
    "\n",
    "#another way of stage 2 of input function\n",
    "name=input(\"what is your name? \")\n",
    "print(\"hello!\", name)\n",
    "\n",
    "#3rd stage of input function\n",
    "name=input(\"what is your name? \")\n",
    "age=input(\"how old are you? \")\n",
    "greetings=\"hello!\"\n",
    "\n",
    "print(greetings, name, \" , you are still young\")\n",
    "\n",
    "\n",
    "#input_ammar_you are still young"
   ]
  },
  {
   "cell_type": "markdown",
   "id": "ef6da112",
   "metadata": {},
   "source": [
    "### **07- conditional logic**"
   ]
  },
  {
   "cell_type": "code",
   "execution_count": 8,
   "id": "ce04e119",
   "metadata": {},
   "outputs": [
    {
     "name": "stdout",
     "output_type": "stream",
     "text": [
      "False\n",
      "True\n",
      "False\n",
      "True\n",
      "True\n",
      "False\n",
      "how old is hammad? 4\n",
      "<class 'int'>\n",
      "False\n"
     ]
    }
   ],
   "source": [
    "# logical operators are either \"true or false\" or \"yes or no\" or \"0 or 1\"\n",
    "#equal to                            ==\n",
    "#not equal to                        !=\n",
    "#less than                           <\n",
    "#greater than                        >\n",
    "#less than equal to                  <=\n",
    "#greater than equal to               >=\n",
    "\n",
    "#is 4 equal to 4\n",
    "print(4!=4)\n",
    "print(4>3)\n",
    "print(3>6) \n",
    "print(3<=5)\n",
    "print(5>=4)\n",
    "\n",
    "#application of logical operators\n",
    "hammad_age= 4\n",
    "age_at_school= 5\n",
    "print(hammad_age==age_at_school)\n",
    "\n",
    "#input function and logical operator\n",
    "hammad_age=input(\"how old is hammad? \") #input function\n",
    "age_at_school= 5\n",
    "hammad_age=int(hammad_age)\n",
    "print(type(hammad_age))\n",
    "print(hammad_age==age_at_school) #logical operator\n",
    "\n",
    "#convert input"
   ]
  },
  {
   "cell_type": "markdown",
   "id": "1f66980d",
   "metadata": {},
   "source": [
    "### **08- type_conversion**"
   ]
  },
  {
   "cell_type": "code",
   "execution_count": 9,
   "id": "e8285bc4",
   "metadata": {},
   "outputs": [
    {
     "name": "stdout",
     "output_type": "stream",
     "text": [
      "15.2 type of x is:  <class 'float'>\n",
      "what is your age? 23\n",
      "23 <class 'int'>\n",
      "what is your name? ammar\n",
      "ammar <class 'str'>\n"
     ]
    }
   ],
   "source": [
    "x = 5               #integer\n",
    "y = 10.2            #float\n",
    "z = \"hello\"         #string\n",
    "\n",
    "# #implicit type conversion\n",
    "x=x+y\n",
    "print(x, \"type of x is: \", type(x))\n",
    "\n",
    "\n",
    "#explicit type conversion\n",
    "age=input(\"what is your age? \")\n",
    "age=int(age)\n",
    "print(age,(type(int(age))))\n",
    "\n",
    "\n",
    "#name\n",
    "name=input(\"what is your name? \")\n",
    "print(name,(type(str(name))))\n",
    "\n",
    "#type_conversion"
   ]
  },
  {
   "cell_type": "markdown",
   "id": "6e3c61f1",
   "metadata": {},
   "source": [
    "### **09- if_else_elif**"
   ]
  },
  {
   "cell_type": "code",
   "execution_count": 10,
   "id": "4b657a87",
   "metadata": {},
   "outputs": [
    {
     "name": "stdout",
     "output_type": "stream",
     "text": [
      "hammad should join the college\n"
     ]
    }
   ],
   "source": [
    "hammad_age= 10\n",
    "required_age_at_school= 5\n",
    "#question: can hammad go to school?\n",
    "\n",
    "if hammad_age==required_age_at_school:\n",
    "    print(\"hammad can go to school\")\n",
    "elif hammad_age > required_age_at_school:\n",
    "    print(\"hammad should join the college\")    \n",
    "else:\n",
    "    print(\"hammad can not go to school\")    \n",
    "\n",
    "    #if, elif, else statements clear."
   ]
  },
  {
   "cell_type": "markdown",
   "id": "e5d03994",
   "metadata": {},
   "source": [
    "### **10- functions**"
   ]
  },
  {
   "cell_type": "code",
   "execution_count": 11,
   "id": "2f7bb09d",
   "metadata": {},
   "outputs": [
    {
     "name": "stdout",
     "output_type": "stream",
     "text": [
      "how are you?\n",
      "how are you?\n",
      "how are you?\n",
      "how are you?\n",
      "how are you\n",
      "how are you\n",
      "hammad is a baby\n",
      "38\n"
     ]
    }
   ],
   "source": [
    "# defining a function\n",
    "# 1\n",
    "def print_codanics():\n",
    "    print(\"how are you?\")\n",
    "    print(\"how are you?\")\n",
    "    \n",
    "\n",
    "\n",
    "print_codanics()\n",
    "\n",
    "# 2\n",
    "def print_codanics():\n",
    "    text= \"how are you?\"\n",
    "    print(text)\n",
    "    print(text)\n",
    "\n",
    "print_codanics()\n",
    "\n",
    "# 3\n",
    "def print_codanics(text):\n",
    "    print(text)\n",
    "    print(text)\n",
    "\n",
    "print_codanics(\"how are you\")\n",
    "\n",
    "# 4 defining a function with if, elif and else statements\n",
    "\n",
    "def school_calculator(age):\n",
    "     if age== 5:\n",
    "         print(\"hammad can go to school\")\n",
    "     elif age>5:\n",
    "         print(\"hammad can join college\")\n",
    "     else:\n",
    "         print(\"hammad is a baby\")\n",
    "\n",
    "school_calculator(2)        \n",
    "\n",
    "# defining a function of  future\n",
    "\n",
    "def future_age(age):\n",
    "    new_age=age+20\n",
    "    return new_age\n",
    "    print(new_age)\n",
    "\n",
    "future_predicted_age=future_age(18)\n",
    "print(future_predicted_age)\n",
    "\n",
    "# i understand functions very well.\n"
   ]
  },
  {
   "cell_type": "markdown",
   "id": "6bf5a1f8",
   "metadata": {},
   "source": [
    "### **11- loops**"
   ]
  },
  {
   "cell_type": "code",
   "execution_count": 12,
   "id": "d40ac961",
   "metadata": {},
   "outputs": [
    {
     "name": "stdout",
     "output_type": "stream",
     "text": [
      "0\n",
      "1\n",
      "2\n",
      "3\n",
      "4\n",
      "5\n",
      "5\n",
      "6\n",
      "7\n",
      "8\n",
      "9\n",
      "mon\n",
      "tue\n",
      "wed\n",
      "thu\n",
      "sat\n",
      "sun\n"
     ]
    }
   ],
   "source": [
    "# while and for loops\n",
    "\n",
    "# while loops\n",
    "x=0\n",
    "while (x<=5):\n",
    "       print(x)\n",
    "       x=x+1\n",
    "\n",
    "# for loops\n",
    "\n",
    "for x in range(5,10):\n",
    "     print(x)\n",
    "\n",
    "#array\n",
    "days = (\"mon\", \"tue\", \"wed\", \"thu\", \"fri\", \"sat\", \"sun\")\n",
    "for d in days:\n",
    "    # if (d==\"fri\"):break\n",
    "    if (d==\"fri\"):continue\n",
    "    print(d)"
   ]
  },
  {
   "cell_type": "markdown",
   "id": "b7d5ce66",
   "metadata": {},
   "source": [
    "### **12- impact_libraries**"
   ]
  },
  {
   "cell_type": "code",
   "execution_count": 13,
   "id": "524855ea",
   "metadata": {},
   "outputs": [
    {
     "name": "stdout",
     "output_type": "stream",
     "text": [
      "the value of pi is  3.141592653589793\n",
      "349.75\n"
     ]
    }
   ],
   "source": [
    "#if you want the value of pi\n",
    "\n",
    "import math\n",
    "print(\"the value of pi is \", math.pi)\n",
    "\n",
    "import statistics\n",
    "x=[150,349,345,555]\n",
    "print(statistics.mean(x))\n",
    "\n",
    "#important libraries\n",
    "#numpy, pandas"
   ]
  },
  {
   "cell_type": "markdown",
   "id": "450c40a0",
   "metadata": {},
   "source": [
    "### **13- trouble_shooting**"
   ]
  },
  {
   "cell_type": "code",
   "execution_count": 14,
   "id": "84251722",
   "metadata": {},
   "outputs": [
    {
     "name": "stdout",
     "output_type": "stream",
     "text": [
      "hello ammaar\n"
     ]
    }
   ],
   "source": [
    "# print(we are learning with ammar) #syntax error\n",
    "\n",
    "#print(25/0)   #runtime error\n",
    "\n",
    "name= \"ammaar\"\n",
    "print(\"hello\", name)\n",
    "\n",
    "#trouble shooting is easy"
   ]
  },
  {
   "cell_type": "code",
   "execution_count": null,
   "id": "abda0952",
   "metadata": {},
   "outputs": [],
   "source": []
  }
 ],
 "metadata": {
  "kernelspec": {
   "display_name": "Python 3 (ipykernel)",
   "language": "python",
   "name": "python3"
  },
  "language_info": {
   "codemirror_mode": {
    "name": "ipython",
    "version": 3
   },
   "file_extension": ".py",
   "mimetype": "text/x-python",
   "name": "python",
   "nbconvert_exporter": "python",
   "pygments_lexer": "ipython3",
   "version": "3.9.13"
  }
 },
 "nbformat": 4,
 "nbformat_minor": 5
}
