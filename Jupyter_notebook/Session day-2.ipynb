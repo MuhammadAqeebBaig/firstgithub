{
 "cells": [
  {
   "cell_type": "code",
   "execution_count": 1,
   "id": "f0c60a5d",
   "metadata": {},
   "outputs": [],
   "source": [
    "# body mass index (BMI)\n",
    "# input weight\n",
    "# height\n",
    "# BMI (ask yourself your height)\n",
    "# weight\n",
    "#calculate BMI\n",
    "# print BMI (my name is aqeeb, and my BMI is)"
   ]
  },
  {
   "cell_type": "code",
   "execution_count": 2,
   "id": "eac9ca3c",
   "metadata": {},
   "outputs": [],
   "source": [
    "# weight in kg/height in m and its square"
   ]
  },
  {
   "cell_type": "code",
   "execution_count": 3,
   "id": "c8db9650",
   "metadata": {},
   "outputs": [
    {
     "name": "stdout",
     "output_type": "stream",
     "text": [
      "what is your height? 1.82\n"
     ]
    }
   ],
   "source": [
    "height = input(\"what is your height? \")"
   ]
  },
  {
   "cell_type": "code",
   "execution_count": 4,
   "id": "55529d0c",
   "metadata": {},
   "outputs": [],
   "source": [
    "height = float(height)"
   ]
  },
  {
   "cell_type": "code",
   "execution_count": 5,
   "id": "8e976376",
   "metadata": {},
   "outputs": [
    {
     "name": "stdout",
     "output_type": "stream",
     "text": [
      "what is your weight? 71\n"
     ]
    }
   ],
   "source": [
    "weight = input(\"what is your weight? \")"
   ]
  },
  {
   "cell_type": "code",
   "execution_count": 6,
   "id": "95c3e0d6",
   "metadata": {},
   "outputs": [],
   "source": [
    "weight = float(weight)"
   ]
  },
  {
   "cell_type": "code",
   "execution_count": 7,
   "id": "115e1465",
   "metadata": {},
   "outputs": [
    {
     "name": "stdout",
     "output_type": "stream",
     "text": [
      "what is your name? aqeeb\n"
     ]
    }
   ],
   "source": [
    "name = input(\"what is your name? \")"
   ]
  },
  {
   "cell_type": "code",
   "execution_count": 8,
   "id": "1d5c645d",
   "metadata": {},
   "outputs": [
    {
     "data": {
      "text/plain": [
       "21.434609346697258"
      ]
     },
     "execution_count": 8,
     "metadata": {},
     "output_type": "execute_result"
    }
   ],
   "source": [
    "BMI = weight/height**2\n",
    "BMI"
   ]
  },
  {
   "cell_type": "code",
   "execution_count": 10,
   "id": "428291ca",
   "metadata": {},
   "outputs": [
    {
     "name": "stdout",
     "output_type": "stream",
     "text": [
      "my name is aqeeb and my BMI is 21.434609346697258\n"
     ]
    }
   ],
   "source": [
    "print(\"my name is\",name, \"and my BMI is\",BMI)"
   ]
  },
  {
   "cell_type": "code",
   "execution_count": null,
   "id": "29d5612f",
   "metadata": {},
   "outputs": [],
   "source": []
  }
 ],
 "metadata": {
  "kernelspec": {
   "display_name": "Python 3 (ipykernel)",
   "language": "python",
   "name": "python3"
  },
  "language_info": {
   "codemirror_mode": {
    "name": "ipython",
    "version": 3
   },
   "file_extension": ".py",
   "mimetype": "text/x-python",
   "name": "python",
   "nbconvert_exporter": "python",
   "pygments_lexer": "ipython3",
   "version": "3.9.13"
  }
 },
 "nbformat": 4,
 "nbformat_minor": 5
}
